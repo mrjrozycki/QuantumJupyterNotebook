{
 "cells": [
  {
   "cell_type": "code",
   "execution_count": null,
   "metadata": {},
   "outputs": [],
   "source": []
  }
 ],
 "metadata": {
  "kernelspec": {
   "display_name": "Python 3.9.9 ('venv': venv)",
   "language": "python",
   "name": "python3"
  },
  "language_info": {
   "name": "python",
   "version": "3.9.9"
  },
  "orig_nbformat": 4,
  "vscode": {
   "interpreter": {
    "hash": "b96f665117f3964a017831e3b4318ec1e9650a19e8e652d3db233f943c90dacb"
   }
  }
 },
 "nbformat": 4,
 "nbformat_minor": 2
}
