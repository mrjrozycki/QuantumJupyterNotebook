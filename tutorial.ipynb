{
 "cells": [
  {
   "cell_type": "markdown",
   "metadata": {},
   "source": [
    "### Imports and Setup\n",
    "Importing the necessary libraries and setting up the correct URL for the API."
   ]
  },
  {
   "cell_type": "code",
   "execution_count": null,
   "metadata": {},
   "outputs": [],
   "source": [
    "import requests\n",
    "from pprint import pprint\n",
    "import json \n",
    "\n",
    "URL = \"http://127.0.0.1:8000/\""
   ]
  },
  {
   "cell_type": "markdown",
   "metadata": {},
   "source": [
    "### Config\n",
    "Parameters send to the server. Everytask you send will be processed with this confif JSON. Every parameter has a short description."
   ]
  },
  {
   "cell_type": "code",
   "execution_count": null,
   "metadata": {},
   "outputs": [],
   "source": [
    "data_to_send = {\n",
    "    \"config\":\n",
    "        {\n",
    "        \"QAOA\":{\n",
    "            \"general\":{ # General parameters in the QAOA algorithm\n",
    "                \"func_find_par\": { # Name of the function in the QAOA algorithm\n",
    "                    \"method\": \"COBYLA\", # Method to use in optimization\n",
    "                    \"tolerance\": 0.001, # Tolerance of the optimization\n",
    "                    \"options\": {\"maxiter\": 100000} # Options of the optimization\n",
    "                },\n",
    "                \"func_find_best_parameters\": {\n",
    "                    \"pool_size\": 10, # Number of virtual processors to use\n",
    "                    \"iter_init\": 100, # Number of solutions to generate for every P-value\n",
    "                    \"best_number\": 15, # Number of best solutions to keep for the next P-value\n",
    "                    \"p_start\": 3, # Starting P-value\n",
    "                    \"p_end\": 10, # Ending P-value\n",
    "                    \"use_next_params\": True, # Use the parameters learned in the previous P-value\n",
    "                    \"beta_corr_thr\": 0.9, # Threshold for the beta correction to be accepted as good solution\n",
    "                    \"gamma_corr_thr\": 0.9 # Threshold for the gamma correction to be accepted as good solution\n",
    "                }\n",
    "            },\n",
    "            \"jsp\": {\n",
    "                \"max_time\": 4, # Maximum time that the solution can take\n",
    "                \"problem_version\": \"optimization\" # Version of the problem to solve (optimization or decizion)\n",
    "            },\n",
    "            \"maxcut\": {\n",
    "                \"n\": -1, # Number of vertices in random graph (if -1, data taken from input) \n",
    "                #\"a\": 1\n",
    "            }\n",
    "        },\n",
    "        \n",
    "        \"D-Wave\": {\n",
    "            \"jsp\":{\n",
    "                \"mode\": \"sim_pyqubo\",\n",
    "                \"num_reads\": 1000,\n",
    "                \"weight_one_hot\": 3,\n",
    "                \"weight_precedence\": 1,\n",
    "                \"weight_share\":2\n",
    "            }\n",
    "        }\n",
    "    }\n",
    "}\n"
   ]
  },
  {
   "cell_type": "markdown",
   "metadata": {},
   "source": [
    "### Data for problems\n",
    "Provide input data for the problems. Sample data given. You can use this data to test your code or you can use your own. Try to use the same format (you will be notified if format is incorrect)."
   ]
  },
  {
   "cell_type": "code",
   "execution_count": null,
   "metadata": {},
   "outputs": [],
   "source": [
    "data = {\n",
    "    \"ExactCover\": {\n",
    "        \"routes\": \"[{1,4,7},{1,4},{4,5,7},{3,5,6},{2,3,6,7},{2,7}]\"\n",
    "    },\n",
    "    \"MaxCut\": {\n",
    "        \"V\": \"[0,4,5,8,1,3,7,9,6,2]\",\n",
    "        \"E\": \"[(0,4),(0,5),(0,8),(4,6),(4,7),(5,8),(5,1),(8,1),(1,9),(3,7),(3,2),(3,9),(7,6),(9,2),(6,2)]\"\n",
    "    },\n",
    "    \"MaxCut_Weighted\": {\n",
    "        \"V\": \"[0,1,2,3,4]\",\n",
    "        \"E\": \"[(2,4),(4,1),(1,0),(0,2),(0,3),(3,1)]\",\n",
    "        \"W\": \"[4,9,5,5,6,2]\"\n",
    "    },\n",
    "    \"JSP\": {\n",
    "        \"Tasks\": \"{'cupcakes':[('mixer',2) ,('oven',1)],'smoothie':[('mixer',1)],'lasagna':[('oven',2)]}\"\n",
    "    },\n",
    "}"
   ]
  },
  {
   "cell_type": "markdown",
   "metadata": {},
   "source": [
    "### Problems to solve\n",
    "List of problems to solve. Place 1 if you want to solve this problem. Place 0 otherwise. You can send multiple problems to the server. Remember that all problems will have te same config. If you want to change the config for each problem you have to send those separately."
   ]
  },
  {
   "cell_type": "code",
   "execution_count": null,
   "metadata": {},
   "outputs": [],
   "source": [
    "Problems_to_solve = {\n",
    "    \"ExactCover\": 0,\n",
    "    \"MaxCut\": 1,\n",
    "    \"MaxCut_Weighted\": 1,\n",
    "    \"JSP\": 0\n",
    "}"
   ]
  },
  {
   "cell_type": "markdown",
   "metadata": {},
   "source": [
    "### Review data \n",
    "Here you can see the problems you want to solve and the data you have provided. Check if the data is correct and that you want to proceed. If you want to change something go back to previous cells."
   ]
  },
  {
   "cell_type": "code",
   "execution_count": null,
   "metadata": {},
   "outputs": [],
   "source": [
    "data_to_send[\"solve\"] = {\n",
    "    \"input_data\": [],\n",
    "    \"problems\": [],}\n",
    "for problem in Problems_to_solve:\n",
    "    if Problems_to_solve[problem] == 1:\n",
    "        data_to_send[\"solve\"][\"input_data\"].append(data[problem])\n",
    "        data_to_send[\"solve\"][\"problems\"] += [problem]\n",
    "print(f'Problems to solve: {data_to_send[\"solve\"][\"problems\"]}')\n",
    "print(f'Input data: {data_to_send[\"solve\"][\"input_data\"]}')\n",
    "\n",
    "#TODO: Visualize the input data\n"
   ]
  },
  {
   "cell_type": "markdown",
   "metadata": {},
   "source": [
    "### Sending the data to the server\n",
    "This cell sends the data to the server. It will notify you if the data is incorrect. Otherwise it will start the processing and return the ids of the tasks. Be sure to use this cell after you have reviewed the data in the previous one to ensure no server resources are wasted."
   ]
  },
  {
   "cell_type": "code",
   "execution_count": null,
   "metadata": {},
   "outputs": [],
   "source": [
    "if data_to_send[\"solve\"][\"problems\"] == []:\n",
    "    print(\"No problems to solve\")\n",
    "    exit()\n",
    "ids = requests.post(f\"{URL}solve/\", json=data_to_send).json()\n",
    "print(f'Solving problems with ids: {ids}')\n",
    "data_to_send[\"solve\"][\"problems\"] = []"
   ]
  },
  {
   "cell_type": "markdown",
   "metadata": {},
   "source": [
    "### Getting the results\n",
    "This cell will get the results of the tasks. It will notify you if the task is not finished yet. Otherwise it will return the results."
   ]
  },
  {
   "cell_type": "code",
   "execution_count": null,
   "metadata": {},
   "outputs": [],
   "source": [
    "for id in ids:\n",
    "    print(f'Checking status of task with id: {id}')\n",
    "    status = requests.get(f\"{URL}result/{id}\").json()\n",
    "    if status[\"status\"] == \"Solved\":\n",
    "        print(f'Problem {status[\"problem\"]} with id: {id} solved')\n",
    "        print(f'Result: {status[\"solution\"]}\\n')\n",
    "    else:\n",
    "        print(f'Problem {status[\"problem\"]} with id: {id} not solved yet\\n')\n",
    "\n",
    "#TODO: Visualize the result and save to file"
   ]
  }
 ],
 "metadata": {
  "kernelspec": {
   "display_name": "Python 3.9.7 ('venv': venv)",
   "language": "python",
   "name": "python3"
  },
  "language_info": {
   "codemirror_mode": {
    "name": "ipython",
    "version": 3
   },
   "file_extension": ".py",
   "mimetype": "text/x-python",
   "name": "python",
   "nbconvert_exporter": "python",
   "pygments_lexer": "ipython3",
   "version": "3.9.7"
  },
  "orig_nbformat": 4,
  "vscode": {
   "interpreter": {
    "hash": "b96f665117f3964a017831e3b4318ec1e9650a19e8e652d3db233f943c90dacb"
   }
  }
 },
 "nbformat": 4,
 "nbformat_minor": 2
}
