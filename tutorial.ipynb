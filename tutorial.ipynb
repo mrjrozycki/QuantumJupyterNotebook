{
 "cells": [
  {
   "cell_type": "code",
   "execution_count": 16,
   "metadata": {},
   "outputs": [],
   "source": [
    "import requests\n",
    "from pprint import pprint\n",
    "import json "
   ]
  },
  {
   "cell_type": "code",
   "execution_count": 34,
   "metadata": {},
   "outputs": [],
   "source": [
    "data_to_send = {\n",
    "    \"config\":\n",
    "        {\n",
    "        \"QAOA\":{\n",
    "            \"general\":{ # General parameters in the QAOA algorithm\n",
    "                \"func_find_par\": { # Name of the function in the QAOA algorithm\n",
    "                    \"method\": \"COBYLA\", # Method to use in optimization\n",
    "                    \"tolerance\": 0.001, # Tolerance of the optimization\n",
    "                    \"options\": {\"maxiter\": 100000} # Options of the optimization\n",
    "                },\n",
    "                \"func_find_best_parameters\": {\n",
    "                    \"pool_size\": 10, # Number of virtual processors to use\n",
    "                    \"iter_init\": 100, # Number of solutions to generate for every P-value\n",
    "                    \"best_number\": 15, # Number of best solutions to keep for the next P-value\n",
    "                    \"p_start\": 3, # Starting P-value\n",
    "                    \"p_end\": 10, # Ending P-value\n",
    "                    \"use_next_params\": True, # Use the parameters learned in the previous P-value\n",
    "                    \"beta_corr_thr\": 0.9, # Threshold for the beta correction to be accepted as good solution\n",
    "                    \"gamma_corr_thr\": 0.9 # Threshold for the gamma correction to be accepted as good solution\n",
    "                }\n",
    "            },\n",
    "            \"jsp\": {\n",
    "                \"max_time\": 4, # Maximum time that the solution can take\n",
    "                \"problem_version\": \"optimization\" # Version of the problem to solve (optimization or decizion)\n",
    "            },\n",
    "            \"maxcut\": {\n",
    "                \"n\": -1, # Number of vertices in random graph (if -1, data taken from input) \n",
    "                #\"a\": 1\n",
    "            }\n",
    "        },\n",
    "        \n",
    "        \"D-Wave\": {\n",
    "            \"jsp\":{\n",
    "                \"mode\": \"sim_pyqubo\",\n",
    "                \"num_reads\": 1000,\n",
    "                \"weight_one_hot\": 3,\n",
    "                \"weight_precedence\": 1,\n",
    "                \"weight_share\":2\n",
    "            }\n",
    "        }\n",
    "    }\n",
    "}\n"
   ]
  },
  {
   "cell_type": "code",
   "execution_count": 35,
   "metadata": {},
   "outputs": [],
   "source": [
    "data = {\n",
    "    \"ExactCover\": {\n",
    "        \"routes\": \"[{1,4,7},{1,4},{4,5,7},{3,5,6},{2,3,6,7},{2,7}]\"\n",
    "    },\n",
    "    \"MaxCut\": {\n",
    "        \"V\": \"[0,4,5,8,1,3,7,9,6,2]\",\n",
    "        \"E\": \"[(0,4),(0,5),(0,8),(4,6),(4,7),(5,8),(5,1),(8,1),(1,9),(3,7),(3,2),(3,9),(7,6),(9,2),(6,2)]\"\n",
    "    },\n",
    "    \"MaxCut_Weighted\": {\n",
    "        \"V\": \"[0,1,2,3,4]\",\n",
    "        \"E\": \"[(2,4),(4,1),(1,0),(0,2),(0,3),(3,1)]\",\n",
    "        \"W\": \"[4,9,5,5,6,2]\"\n",
    "    },\n",
    "    \"JSP\": {\n",
    "        \"Tasks\": \"{'cupcakes':[('mixer',2) ,('oven',1)],'smoothie':[('mixer',1)],'lasagna':[('oven',2)]}\"\n",
    "    },\n",
    "}"
   ]
  },
  {
   "cell_type": "code",
   "execution_count": 36,
   "metadata": {},
   "outputs": [],
   "source": [
    "Problems_to_solve = {\n",
    "    \"ExactCover\": 0,\n",
    "    \"MaxCut\": 1,\n",
    "    \"MaxCut_Weighted\": 1,\n",
    "    \"JSP\": 0\n",
    "}"
   ]
  },
  {
   "cell_type": "code",
   "execution_count": 40,
   "metadata": {},
   "outputs": [
    {
     "name": "stdout",
     "output_type": "stream",
     "text": [
      "<Response [200]>\n"
     ]
    }
   ],
   "source": [
    "data_to_send[\"solve\"] = {\n",
    "    \"input_data\": [],\n",
    "    \"problems\": [],}\n",
    "for problem in Problems_to_solve:\n",
    "    if Problems_to_solve[problem] == 1:\n",
    "        data_to_send[\"solve\"][\"input_data\"].append(data[problem])\n",
    "        data_to_send[\"solve\"][\"problems\"] += [problem]\n",
    "\n",
    "print(requests.post(\"http://127.0.0.1:8000/solve/\", json=json.dumps(data_to_send)).json())"
   ]
  },
  {
   "cell_type": "code",
   "execution_count": null,
   "metadata": {},
   "outputs": [],
   "source": []
  },
  {
   "cell_type": "code",
   "execution_count": null,
   "metadata": {},
   "outputs": [
    {
     "name": "stdout",
     "output_type": "stream",
     "text": [
      "Solving problem: MaxCut, at http://kwanty.com/solve/MaxCut\n"
     ]
    }
   ],
   "source": [
    "responses_IN_PROGRESS = []\n",
    "REST_API_Solve = \"http://kwanty.com/solve/\"\n",
    "for problem in Problems_to_solve:\n",
    "    if Problems_to_solve[problem] == 1:\n",
    "        responses_IN_PROGRESS.append(requests.post(REST_API_Solve+problem, json=config))\n",
    "        print(f\"Solving problem: {problem}, at {REST_API_Solve+problem}\")"
   ]
  },
  {
   "cell_type": "code",
   "execution_count": null,
   "metadata": {},
   "outputs": [
    {
     "name": "stdout",
     "output_type": "stream",
     "text": [
      "Checking status of problem: MaxCut, at http://kwanty.com/results/1\n",
      "Problem MaxCut with id: 1 - solved\n"
     ]
    }
   ],
   "source": [
    "# Checking the status\n",
    "test_response_Solving = [{\"id\": 1, \"problem\": \"MaxCut\", \"status\": \"Solving\", \"solution\": \"0101100110\"}]\n",
    "test_response_Solved = [{\"id\": 1, \"problem\": \"MaxCut\", \"status\": \"Solved\", \"solution\": \"0101100110\"}]\n",
    "\n",
    "\n",
    "response_DONE = []\n",
    "REST_API_Results = \"http://kwanty.com/results/\"\n",
    "# for response in responses_IN_PROGRESS:\n",
    "for response in test_response_Solved:\n",
    "    print(f\"Checking status of problem: {response['problem']}, at {REST_API_Results+str(response['id'])}\")\n",
    "    # response_from_server = requests.get(REST_API_Results+str(response[\"id\"]))\n",
    "    response_from_server = test_response_Solved[0]\n",
    "    if response_from_server[\"status\"] == \"Solved\":\n",
    "        response_DONE.append(response_from_server)\n",
    "        print(f\"Problem {response['problem']} with id: {response['id']} - solved\")\n",
    "\n",
    "\n",
    "\n"
   ]
  },
  {
   "cell_type": "code",
   "execution_count": null,
   "metadata": {},
   "outputs": [],
   "source": []
  }
 ],
 "metadata": {
  "kernelspec": {
   "display_name": "Python 3.9.9 ('venv': venv)",
   "language": "python",
   "name": "python3"
  },
  "language_info": {
   "codemirror_mode": {
    "name": "ipython",
    "version": 3
   },
   "file_extension": ".py",
   "mimetype": "text/x-python",
   "name": "python",
   "nbconvert_exporter": "python",
   "pygments_lexer": "ipython3",
   "version": "3.10.5"
  },
  "orig_nbformat": 4,
  "vscode": {
   "interpreter": {
    "hash": "ab94c9e43b8a02ed06dff55d8b462c971b51e0713c875e5f0dac756b28ec07c8"
   }
  }
 },
 "nbformat": 4,
 "nbformat_minor": 2
}
