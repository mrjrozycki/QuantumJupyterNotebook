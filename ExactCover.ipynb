{
 "cells": [
  {
   "cell_type": "code",
   "execution_count": 1,
   "metadata": {},
   "outputs": [
    {
     "name": "stderr",
     "output_type": "stream",
     "text": [
      "/home/jrozycki/miniconda3/envs/notebooki/lib/python3.9/site-packages/tqdm/auto.py:22: TqdmWarning: IProgress not found. Please update jupyter and ipywidgets. See https://ipywidgets.readthedocs.io/en/stable/user_install.html\n",
      "  from .autonotebook import tqdm as notebook_tqdm\n"
     ]
    }
   ],
   "source": [
    "from utils import EXACTCOVER\n",
    "import json\n",
    "with open('conf.json') as f:\n",
    "    config = json.load(f)\n",
    "routes = [{1,4,7},{1,4},{4,5,7},{3,5,6},{2,3,6,7},{2,7}]\n",
    "\n",
    "Algo = EXACTCOVER(routes, config)\n",
    "Algo.find_best_parameters()"
   ]
  }
 ],
 "metadata": {
  "kernelspec": {
   "display_name": "Python 3.9.13 ('notebooki')",
   "language": "python",
   "name": "python3"
  },
  "language_info": {
   "codemirror_mode": {
    "name": "ipython",
    "version": 3
   },
   "file_extension": ".py",
   "mimetype": "text/x-python",
   "name": "python",
   "nbconvert_exporter": "python",
   "pygments_lexer": "ipython3",
   "version": "3.9.13"
  },
  "orig_nbformat": 4,
  "vscode": {
   "interpreter": {
    "hash": "9b21e57ad116c585078321c0f18247476368ab08bbfcbc0d01e44c610624da37"
   }
  }
 },
 "nbformat": 4,
 "nbformat_minor": 2
}
