{
 "cells": [
  {
   "cell_type": "markdown",
   "metadata": {},
   "source": [
    "Wprowadzenie do Exact Cover Problemu"
   ]
  },
  {
   "cell_type": "markdown",
   "metadata": {},
   "source": [
    "Stworzenie instancji problemu Exact Cover:"
   ]
  },
  {
   "cell_type": "code",
   "execution_count": 3,
   "metadata": {},
   "outputs": [],
   "source": [
    "A = {1,4,7}\n",
    "B = {1,4}\n",
    "C = {4,5,7}\n",
    "D = {3,5,6}\n",
    "E = {2,3,6,7}\n",
    "F = {2,7}\n",
    "routes = [A,B,C,D,E,F]"
   ]
  },
  {
   "cell_type": "code",
   "execution_count": 4,
   "metadata": {},
   "outputs": [
    {
     "ename": "ImportError",
     "evalue": "cannot import name 'ExactCover' from 'utils' (/home/jrozycki/Documents/Praca/jupyternotebook/utils.py)",
     "output_type": "error",
     "traceback": [
      "\u001b[0;31m---------------------------------------------------------------------------\u001b[0m",
      "\u001b[0;31mImportError\u001b[0m                               Traceback (most recent call last)",
      "\u001b[1;32m/home/jrozycki/Documents/Praca/jupyternotebook/ExactCover.ipynb Cell 4\u001b[0m in \u001b[0;36m<cell line: 1>\u001b[0;34m()\u001b[0m\n\u001b[0;32m----> <a href='vscode-notebook-cell:/home/jrozycki/Documents/Praca/jupyternotebook/ExactCover.ipynb#W4sZmlsZQ%3D%3D?line=0'>1</a>\u001b[0m \u001b[39mfrom\u001b[39;00m \u001b[39mutils\u001b[39;00m \u001b[39mimport\u001b[39;00m ExactCover\n\u001b[1;32m      <a href='vscode-notebook-cell:/home/jrozycki/Documents/Praca/jupyternotebook/ExactCover.ipynb#W4sZmlsZQ%3D%3D?line=1'>2</a>\u001b[0m exact_cover \u001b[39m=\u001b[39m ExactCover(routes)\n",
      "\u001b[0;31mImportError\u001b[0m: cannot import name 'ExactCover' from 'utils' (/home/jrozycki/Documents/Praca/jupyternotebook/utils.py)"
     ]
    }
   ],
   "source": [
    "from utils import EXACTCOVER\n",
    "exact_cover = EXACTCOVER(routes)\n"
   ]
  },
  {
   "cell_type": "code",
   "execution_count": null,
   "metadata": {},
   "outputs": [],
   "source": [
    "exact_cover.find_best_parameters()"
   ]
  },
  {
   "cell_type": "code",
   "execution_count": 1,
   "metadata": {},
   "outputs": [
    {
     "name": "stdout",
     "output_type": "stream",
     "text": [
      "\n",
      "\n",
      "\n"
     ]
    },
    {
     "data": {
      "application/vnd.jupyter.widget-view+json": {
       "model_id": "d29fb46168ea43d3aba84ce99e2a6e5b",
       "version_major": 2,
       "version_minor": 0
      },
      "text/plain": [
       "  0%|          | 0/300 [00:00<?, ?it/s]"
      ]
     },
     "metadata": {},
     "output_type": "display_data"
    },
    {
     "name": "stdout",
     "output_type": "stream",
     "text": [
      "\n",
      "\n",
      "graph_data: [] \n",
      "\n",
      "Najlepsze rozwiazanie to: 101010\n"
     ]
    },
    {
     "data": {
      "text/plain": [
       "0"
      ]
     },
     "execution_count": 1,
     "metadata": {},
     "output_type": "execute_result"
    }
   ],
   "source": [
    "from utils import EXACTCOVER\n",
    "import json\n",
    "with open('conf.json') as f:\n",
    "    config = json.load(f)\n",
    "\n",
    "Algo = EXACTCOVER(routes, config)\n",
    "Algo.find_best_parameters()"
   ]
  }
 ],
 "metadata": {
  "kernelspec": {
   "display_name": "Python 3.9.13 ('notebooki')",
   "language": "python",
   "name": "python3"
  },
  "language_info": {
   "codemirror_mode": {
    "name": "ipython",
    "version": 3
   },
   "file_extension": ".py",
   "mimetype": "text/x-python",
   "name": "python",
   "nbconvert_exporter": "python",
   "pygments_lexer": "ipython3",
   "version": "3.9.13"
  },
  "orig_nbformat": 4,
  "vscode": {
   "interpreter": {
    "hash": "9b21e57ad116c585078321c0f18247476368ab08bbfcbc0d01e44c610624da37"
   }
  }
 },
 "nbformat": 4,
 "nbformat_minor": 2
}
