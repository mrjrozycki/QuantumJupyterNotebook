{
 "cells": [
  {
   "cell_type": "code",
   "execution_count": 3,
   "metadata": {},
   "outputs": [
    {
     "ename": "AttributeError",
     "evalue": "'EXACTCOVER' object has no attribute 'p_end'",
     "output_type": "error",
     "traceback": [
      "\u001b[0;31m---------------------------------------------------------------------------\u001b[0m",
      "\u001b[0;31mAttributeError\u001b[0m                            Traceback (most recent call last)",
      "\u001b[1;32m/home/jrozycki/Documents/Praca/jupyternotebook/ExactCover.ipynb Cell 1\u001b[0m in \u001b[0;36m<cell line: 8>\u001b[0;34m()\u001b[0m\n\u001b[1;32m      <a href='vscode-notebook-cell:/home/jrozycki/Documents/Praca/jupyternotebook/ExactCover.ipynb#W0sZmlsZQ%3D%3D?line=4'>5</a>\u001b[0m routes \u001b[39m=\u001b[39m [{\u001b[39m1\u001b[39m,\u001b[39m4\u001b[39m,\u001b[39m7\u001b[39m},{\u001b[39m1\u001b[39m,\u001b[39m4\u001b[39m},{\u001b[39m4\u001b[39m,\u001b[39m5\u001b[39m,\u001b[39m7\u001b[39m},{\u001b[39m3\u001b[39m,\u001b[39m5\u001b[39m,\u001b[39m6\u001b[39m},{\u001b[39m2\u001b[39m,\u001b[39m3\u001b[39m,\u001b[39m6\u001b[39m,\u001b[39m7\u001b[39m},{\u001b[39m2\u001b[39m,\u001b[39m7\u001b[39m}]\n\u001b[1;32m      <a href='vscode-notebook-cell:/home/jrozycki/Documents/Praca/jupyternotebook/ExactCover.ipynb#W0sZmlsZQ%3D%3D?line=6'>7</a>\u001b[0m Algo \u001b[39m=\u001b[39m EXACTCOVER(routes, config)\n\u001b[0;32m----> <a href='vscode-notebook-cell:/home/jrozycki/Documents/Praca/jupyternotebook/ExactCover.ipynb#W0sZmlsZQ%3D%3D?line=7'>8</a>\u001b[0m Algo\u001b[39m.\u001b[39;49mfind_best_parameters()\n",
      "File \u001b[0;32m~/Documents/Praca/jupyternotebook/utils.py:141\u001b[0m, in \u001b[0;36mAlgorithm.find_best_parameters\u001b[0;34m(self)\u001b[0m\n\u001b[1;32m    139\u001b[0m p \u001b[39m=\u001b[39m \u001b[39mself\u001b[39m\u001b[39m.\u001b[39mp\n\u001b[1;32m    140\u001b[0m \u001b[39mself\u001b[39m\u001b[39m.\u001b[39mprogress_p \u001b[39m=\u001b[39m \u001b[39mself\u001b[39m\u001b[39m.\u001b[39mp_start\n\u001b[0;32m--> 141\u001b[0m \u001b[39mself\u001b[39m\u001b[39m.\u001b[39mp_range \u001b[39m=\u001b[39m [\u001b[39mself\u001b[39m\u001b[39m.\u001b[39mp_start, \u001b[39mself\u001b[39;49m\u001b[39m.\u001b[39;49mp_end]\n\u001b[1;32m    142\u001b[0m educated_guess_params \u001b[39m=\u001b[39m \u001b[39mNone\u001b[39;00m\n\u001b[1;32m    145\u001b[0m \u001b[39mif\u001b[39;00m \u001b[39mself\u001b[39m\u001b[39m.\u001b[39mbest_number \u001b[39m>\u001b[39m \u001b[39mself\u001b[39m\u001b[39m.\u001b[39miter_init:\n",
      "\u001b[0;31mAttributeError\u001b[0m: 'EXACTCOVER' object has no attribute 'p_end'"
     ]
    }
   ],
   "source": [
    "from utils import EXACTCOVER\n",
    "import json\n",
    "with open('conf.json') as f:\n",
    "    config = json.load(f)\n",
    "routes = [{1,4,7},{1,4},{4,5,7},{3,5,6},{2,3,6,7},{2,7}]\n",
    "\n",
    "Algo = EXACTCOVER(routes, config)\n",
    "Algo.find_best_parameters()"
   ]
  }
 ],
 "metadata": {
  "kernelspec": {
   "display_name": "Python 3.9.13 ('notebooki')",
   "language": "python",
   "name": "python3"
  },
  "language_info": {
   "codemirror_mode": {
    "name": "ipython",
    "version": 3
   },
   "file_extension": ".py",
   "mimetype": "text/x-python",
   "name": "python",
   "nbconvert_exporter": "python",
   "pygments_lexer": "ipython3",
   "version": "3.9.13"
  },
  "orig_nbformat": 4,
  "vscode": {
   "interpreter": {
    "hash": "9b21e57ad116c585078321c0f18247476368ab08bbfcbc0d01e44c610624da37"
   }
  }
 },
 "nbformat": 4,
 "nbformat_minor": 2
}
