{
 "cells": [
  {
   "cell_type": "markdown",
   "metadata": {},
   "source": [
    "Wprowadzenie do Exact Cover Problemu"
   ]
  },
  {
   "cell_type": "markdown",
   "metadata": {},
   "source": [
    "Definicja hamiltonianu:"
   ]
  },
  {
   "cell_type": "code",
   "execution_count": null,
   "metadata": {},
   "outputs": [],
   "source": [
    "import numpy as np\n",
    "\n",
    "from qat.core import Observable, Term\n",
    "\n",
    "\n",
    "def Jrr(route1, route2):\n",
    "    s = len(set(route1).intersection(set(route2)))\n",
    "    return s / 2\n",
    "\n",
    "def hr(route1, routes):\n",
    "    i_sum = 0\n",
    "    for r in routes:\n",
    "        i_sum += len(set(r).intersection(set(route1)))\n",
    "    s = i_sum - len(route1) * 2\n",
    "    return s / 2\n",
    "\n",
    "def calculate_jrr_hr(routes):\n",
    "    Jrr_dict = dict()\n",
    "    indices = np.triu_indices(len(routes), 1)\n",
    "    for i1, i2 in zip(indices[0], indices[1]):\n",
    "        Jrr_dict[(i1, i2)] = Jrr(routes[i1], routes[i2])\n",
    "\n",
    "    hr_dict = dict()\n",
    "    for i in range(len(routes)):\n",
    "        hr_dict[i] = hr(routes[i], routes)\n",
    "\n",
    "    return Jrr_dict, hr_dict\n",
    "\n",
    "def make_hamiltonian(routes):\n",
    "    line_obs = Observable(len(routes))\n",
    "    Jrr_dict, hr_dict = calculate_jrr_hr()\n",
    "    for i in Jrr_dict:\n",
    "        line_obs.add_term(Term(Jrr_dict[i], \"ZZ\", [i[0], i[1]]))\n",
    "    for i in hr_dict:\n",
    "        line_obs.add_term(Term(hr_dict[i], \"Z\", [i]))\n",
    "    return line_obs"
   ]
  },
  {
   "cell_type": "markdown",
   "metadata": {},
   "source": [
    "Stworzenie instancji problemu Exact Cover:"
   ]
  },
  {
   "cell_type": "code",
   "execution_count": 1,
   "metadata": {},
   "outputs": [],
   "source": [
    "A = {1,4,7}\n",
    "B = {1,4}\n",
    "C = {4,5,7}\n",
    "D = {3,5,6}\n",
    "E = {2,3,6,7}\n",
    "F = {2,7}\n",
    "routes = [A,B,C,D,E,F]"
   ]
  },
  {
   "cell_type": "markdown",
   "metadata": {},
   "source": [
    "Stworzenie obiektu ExactCoverSolver:"
   ]
  },
  {
   "cell_type": "code",
   "execution_count": 2,
   "metadata": {},
   "outputs": [],
   "source": [
    "from utils import EXACTCOVER\n",
    "exact_cover_solver = EXACTCOVER(routes, p = 1)\n"
   ]
  },
  {
   "cell_type": "markdown",
   "metadata": {},
   "source": [
    "Rozwiązanie problemu dla domyślnych parametrów:"
   ]
  },
  {
   "cell_type": "code",
   "execution_count": 3,
   "metadata": {},
   "outputs": [
    {
     "data": {
      "application/vnd.jupyter.widget-view+json": {
       "model_id": "ff4afa2cb138429b9f6898fb466f48e0",
       "version_major": 2,
       "version_minor": 0
      },
      "text/plain": [
       "  0%|          | 0/100 [00:00<?, ?it/s]"
      ]
     },
     "metadata": {},
     "output_type": "display_data"
    },
    {
     "name": "stdout",
     "output_type": "stream",
     "text": [
      "\n",
      "\n",
      "Najlepsze rozwiazanie to: 111010\n"
     ]
    },
    {
     "data": {
      "text/plain": [
       "0"
      ]
     },
     "execution_count": 3,
     "metadata": {},
     "output_type": "execute_result"
    }
   ],
   "source": [
    "exact_cover_solver.solve()"
   ]
  },
  {
   "cell_type": "markdown",
   "metadata": {},
   "source": [
    "Wytłumaczenie rozwiązania:"
   ]
  },
  {
   "cell_type": "markdown",
   "metadata": {},
   "source": [
    "Wizualizacja wyniku"
   ]
  },
  {
   "cell_type": "markdown",
   "metadata": {},
   "source": [
    "Wytłumaczenie i zmiana parametrów:\n",
    "\n",
    "* threads = 1, \n",
    "* num_iter = 100, \n",
    "* p = 1, \n",
    "* beta_corr_thr = 0.9, \n",
    "* gamma_corr_thr = 0.9, \n",
    "* beta_bound=np.pi * 1, \n",
    "* gamma_bound=np.pi * 2"
   ]
  },
  {
   "cell_type": "code",
   "execution_count": null,
   "metadata": {},
   "outputs": [],
   "source": [
    "exact_cover_solverv2 = EXACTCOVER(routes, p = 2)\n",
    "exact_cover_solverv2.solve()"
   ]
  },
  {
   "cell_type": "markdown",
   "metadata": {},
   "source": [
    "Wytłumaczenie lepszego rozwiązania:"
   ]
  },
  {
   "cell_type": "markdown",
   "metadata": {},
   "source": [
    "Wizualizacja lepszego rozwiązania:"
   ]
  }
 ],
 "metadata": {
  "kernelspec": {
   "display_name": "Python 3.9.13 ('notebooki')",
   "language": "python",
   "name": "python3"
  },
  "language_info": {
   "codemirror_mode": {
    "name": "ipython",
    "version": 3
   },
   "file_extension": ".py",
   "mimetype": "text/x-python",
   "name": "python",
   "nbconvert_exporter": "python",
   "pygments_lexer": "ipython3",
   "version": "3.9.13"
  },
  "orig_nbformat": 4,
  "vscode": {
   "interpreter": {
    "hash": "9b21e57ad116c585078321c0f18247476368ab08bbfcbc0d01e44c610624da37"
   }
  }
 },
 "nbformat": 4,
 "nbformat_minor": 2
}
