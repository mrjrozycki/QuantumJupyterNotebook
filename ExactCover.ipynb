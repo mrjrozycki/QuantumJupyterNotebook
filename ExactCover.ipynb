{
 "cells": [
  {
   "cell_type": "markdown",
   "metadata": {},
   "source": [
    "Wprowadzenie do Exact Cover Problemu"
   ]
  },
  {
   "cell_type": "markdown",
   "metadata": {},
   "source": [
    "Stworzenie instancji problemu Exact Cover:"
   ]
  },
  {
   "cell_type": "code",
   "execution_count": 4,
   "metadata": {},
   "outputs": [],
   "source": [
    "A = {1,4,7}\n",
    "B = {1,4}\n",
    "C = {4,5,7}\n",
    "D = {3,5,6}\n",
    "E = {2,3,6,7}\n",
    "F = {2,7}\n",
    "routes = [A,B,C,D,E,F]"
   ]
  },
  {
   "cell_type": "code",
   "execution_count": 5,
   "metadata": {},
   "outputs": [],
   "source": [
    "from utils import EXACTCOVER\n",
    "exact_cover = EXACTCOVER(routes, p = 2)\n"
   ]
  },
  {
   "cell_type": "code",
   "execution_count": 6,
   "metadata": {},
   "outputs": [
    {
     "ename": "TypeError",
     "evalue": "find_best_parameters() got an unexpected keyword argument 'p'",
     "output_type": "error",
     "traceback": [
      "\u001b[0;31m---------------------------------------------------------------------------\u001b[0m",
      "\u001b[0;31mTypeError\u001b[0m                                 Traceback (most recent call last)",
      "\u001b[1;32m/home/jrozycki/Documents/Praca/jupyternotebook/ExactCover.ipynb Cell 5\u001b[0m in \u001b[0;36m<cell line: 1>\u001b[0;34m()\u001b[0m\n\u001b[0;32m----> <a href='vscode-notebook-cell:/home/jrozycki/Documents/Praca/jupyternotebook/ExactCover.ipynb#W5sZmlsZQ%3D%3D?line=0'>1</a>\u001b[0m exact_cover\u001b[39m.\u001b[39;49mfind_best_parameters(p \u001b[39m=\u001b[39;49m \u001b[39m2\u001b[39;49m)\n",
      "\u001b[0;31mTypeError\u001b[0m: find_best_parameters() got an unexpected keyword argument 'p'"
     ]
    }
   ],
   "source": [
    "exact_cover.find_best_parameters()"
   ]
  }
 ],
 "metadata": {
  "kernelspec": {
   "display_name": "Python 3.9.13 ('notebooki')",
   "language": "python",
   "name": "python3"
  },
  "language_info": {
   "codemirror_mode": {
    "name": "ipython",
    "version": 3
   },
   "file_extension": ".py",
   "mimetype": "text/x-python",
   "name": "python",
   "nbconvert_exporter": "python",
   "pygments_lexer": "ipython3",
   "version": "3.9.13"
  },
  "orig_nbformat": 4,
  "vscode": {
   "interpreter": {
    "hash": "9b21e57ad116c585078321c0f18247476368ab08bbfcbc0d01e44c610624da37"
   }
  }
 },
 "nbformat": 4,
 "nbformat_minor": 2
}
