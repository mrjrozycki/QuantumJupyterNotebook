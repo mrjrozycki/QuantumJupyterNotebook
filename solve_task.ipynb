{
 "cells": [
  {
   "cell_type": "code",
   "execution_count": null,
   "metadata": {},
   "outputs": [],
   "source": [
    "token = \"2cc03f168032ae77fb28e5a2229a89acdf7ee89b\""
   ]
  },
  {
   "cell_type": "code",
   "execution_count": 3,
   "metadata": {},
   "outputs": [],
   "source": [
    "from connection import maxcut"
   ]
  },
  {
   "cell_type": "code",
   "execution_count": 4,
   "metadata": {},
   "outputs": [
    {
     "name": "stdout",
     "output_type": "stream",
     "text": [
      "Solving problem maxcut with id: 15\n"
     ]
    },
    {
     "data": {
      "text/plain": [
       "{'id': 15,\n",
       " 'problem': 'ExactCover',\n",
       " 'status': 'Solved',\n",
       " 'solution': '0101100110'}"
      ]
     },
     "execution_count": 4,
     "metadata": {},
     "output_type": "execute_result"
    }
   ],
   "source": [
    "#Data \n",
    "V = [1,2,3,4]\n",
    "E = [(1,2),(1,3),(1,4),(2,3),(2,4),(3,4)]\n",
    "\n",
    "maxcut(V, E, architecture = \"QAOA\", token = token)"
   ]
  }
 ],
 "metadata": {
  "kernelspec": {
   "display_name": "Python 3.10.5 ('venv': venv)",
   "language": "python",
   "name": "python3"
  },
  "language_info": {
   "codemirror_mode": {
    "name": "ipython",
    "version": 3
   },
   "file_extension": ".py",
   "mimetype": "text/x-python",
   "name": "python",
   "nbconvert_exporter": "python",
   "pygments_lexer": "ipython3",
   "version": "3.10.5"
  },
  "orig_nbformat": 4,
  "vscode": {
   "interpreter": {
    "hash": "ab94c9e43b8a02ed06dff55d8b462c971b51e0713c875e5f0dac756b28ec07c8"
   }
  }
 },
 "nbformat": 4,
 "nbformat_minor": 2
}
