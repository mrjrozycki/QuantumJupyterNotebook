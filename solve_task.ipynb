{
 "cells": [
  {
   "cell_type": "code",
   "execution_count": null,
   "metadata": {},
   "outputs": [],
   "source": [
    "from helpers import maxcut"
   ]
  },
  {
   "cell_type": "code",
   "execution_count": 1,
   "metadata": {},
   "outputs": [],
   "source": [
    "token = \"2cc03f168032ae77fb28e5a2229a89acdf7ee89b\""
   ]
  },
  {
   "cell_type": "code",
   "execution_count": 7,
   "metadata": {},
   "outputs": [
    {
     "name": "stdout",
     "output_type": "stream",
     "text": [
      "Solving problem maxcut with id: 11\n"
     ]
    },
    {
     "data": {
      "text/plain": [
       "{'id': 11,\n",
       " 'problem': 'ExactCover',\n",
       " 'status': 'Solved',\n",
       " 'solution': '0101100110'}"
      ]
     },
     "execution_count": 7,
     "metadata": {},
     "output_type": "execute_result"
    }
   ],
   "source": [
    "#Data \n",
    "V = [1,2,3,4]\n",
    "E = [(1,2),(1,3),(1,4),(2,3),(2,4),(3,4)]\n",
    "\n",
    "maxcut(V, E, architecture = \"QAOA\", token = token, get_result_async=False)"
   ]
  }
 ],
 "metadata": {
  "kernelspec": {
   "display_name": "Python 3.10.4 ('venv': venv)",
   "language": "python",
   "name": "python3"
  },
  "language_info": {
   "codemirror_mode": {
    "name": "ipython",
    "version": 3
   },
   "file_extension": ".py",
   "mimetype": "text/x-python",
   "name": "python",
   "nbconvert_exporter": "python",
   "pygments_lexer": "ipython3",
   "version": "3.10.4"
  },
  "orig_nbformat": 4,
  "vscode": {
   "interpreter": {
    "hash": "b96f665117f3964a017831e3b4318ec1e9650a19e8e652d3db233f943c90dacb"
   }
  }
 },
 "nbformat": 4,
 "nbformat_minor": 2
}
