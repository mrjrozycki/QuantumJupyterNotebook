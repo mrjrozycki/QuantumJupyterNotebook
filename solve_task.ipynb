{
 "cells": [
  {
   "cell_type": "code",
   "execution_count": 9,
   "metadata": {},
   "outputs": [],
   "source": [
    "from helpers import *\n",
    "\n",
    "from pprint import pprint"
   ]
  },
  {
   "cell_type": "code",
   "execution_count": 10,
   "metadata": {},
   "outputs": [],
   "source": [
    "#Provide token to acces the QCG system\n",
    "token = \"2cc03f168032ae77fb28e5a2229a89acdf7ee89b\""
   ]
  },
  {
   "cell_type": "code",
   "execution_count": 20,
   "metadata": {},
   "outputs": [
    {
     "name": "stdout",
     "output_type": "stream",
     "text": [
      "Solving problem maxcut with id: 24\n"
     ]
    },
    {
     "data": {
      "text/plain": [
       "{'id': 24, 'problem': 'JSP', 'status': 'Solved', 'solution': '0101100110'}"
      ]
     },
     "execution_count": 20,
     "metadata": {},
     "output_type": "execute_result"
    }
   ],
   "source": [
    "#Data \n",
    "V = [1,2,3,4]\n",
    "E = [(1,2),(1,3),(1,4),(2,3),(2,4),(3,4)]\n",
    "'''\n",
    "Arguments:\n",
    "\n",
    "    V and E: Data needed to solve Maxcut problem\n",
    "    Architecture: QAOA or D-Wave\n",
    "    Token: Token to access the QCG system\n",
    "    Get_result_async: If True, the function will return an id of the problem needed to check status later. If False, the function will wait for the problem to be solved and then return the result.\n",
    "'''\n",
    "\n",
    "maxcut(V, E, architecture = \"QAOA\", token = token, get_result_async=False)"
   ]
  },
  {
   "cell_type": "code",
   "execution_count": 22,
   "metadata": {},
   "outputs": [
    {
     "data": {
      "text/plain": [
       "{'id': 62,\n",
       " 'problem': 'ExactCover',\n",
       " 'status': 'Solving',\n",
       " 'solution': '0101100110'}"
      ]
     },
     "execution_count": 22,
     "metadata": {},
     "output_type": "execute_result"
    }
   ],
   "source": [
    "# If async True:\n",
    "id = 62\n",
    "get_solution(id, token)"
   ]
  }
 ],
 "metadata": {
  "kernelspec": {
   "display_name": "Python 3.10.4 ('venv': venv)",
   "language": "python",
   "name": "python3"
  },
  "language_info": {
   "codemirror_mode": {
    "name": "ipython",
    "version": 3
   },
   "file_extension": ".py",
   "mimetype": "text/x-python",
   "name": "python",
   "nbconvert_exporter": "python",
   "pygments_lexer": "ipython3",
   "version": "3.10.4"
  },
  "orig_nbformat": 4,
  "vscode": {
   "interpreter": {
    "hash": "b96f665117f3964a017831e3b4318ec1e9650a19e8e652d3db233f943c90dacb"
   }
  }
 },
 "nbformat": 4,
 "nbformat_minor": 2
}
